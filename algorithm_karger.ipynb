{
 "cells": [
  {
   "cell_type": "code",
   "execution_count": null,
   "metadata": {},
   "outputs": [],
   "source": [
    "import numpy as np\n",
    "\n",
    "def mincut(pairs):\n",
    "    pairs2 = []\n",
    "    for pair in pairs:\n",
    "        if pair[::-1] not in pairs2:\n",
    "            pairs2.append(pair)\n",
    "    pairs = pairs2\n",
    "    name_dict = {st: i for i, st in enumerate(np.unique(pairs))}\n",
    "    n = len(name_dict)\n",
    "    a = np.zeros((n, n))\n",
    "    score = np.zeros(n)\n",
    "    for s, f in pairs:\n",
    "        score[name_dict[s]] += 1\n",
    "        score[name_dict[f]] += 1\n",
    "    for s, f in pairs:\n",
    "        a[name_dict[f], name_dict[s]] = -1\n",
    "        a[name_dict[s], name_dict[f]] = -1\n",
    "    for i, s in enumerate(score):\n",
    "        a[i, i] = s\n",
    "    w, v = np.linalg.eigh(a)\n",
    "    coords = np.argsort(v[:,1])[::-1]\n",
    "    best_dens = 1\n",
    "    best = 1\n",
    "    for i in range(1,len(coords)):\n",
    "        dens = np.count_nonzero(a[:,coords[:i]][coords[i:],:])/(i * (len(coords)-i))\n",
    "        if dens < best_dens:\n",
    "            best_dens = dens\n",
    "            best = i\n",
    "    return np.sort([list(name_dict.keys())[list(name_dict.values()).index(coord)] for coord in coords[:best]])\n",
    "\n",
    "n = int(input())\n",
    "pairs = []\n",
    "for _ in range(n):\n",
    "    pairs.append(list(map(int, input().strip().split())))\n",
    "print(' '.join(list(map(str,mincut( pairs)))))"
   ]
  }
 ],
 "metadata": {
  "kernelspec": {
   "display_name": "Python 3",
   "language": "python",
   "name": "python3"
  },
  "language_info": {
   "codemirror_mode": {
    "name": "ipython",
    "version": 3
   },
   "file_extension": ".py",
   "mimetype": "text/x-python",
   "name": "python",
   "nbconvert_exporter": "python",
   "pygments_lexer": "ipython3",
   "version": "3.7.4"
  }
 },
 "nbformat": 4,
 "nbformat_minor": 2
}
