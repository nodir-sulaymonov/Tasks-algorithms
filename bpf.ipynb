{
 "cells": [
  {
   "cell_type": "code",
   "execution_count": null,
   "metadata": {},
   "outputs": [],
   "source": [
    "from math import pi, sin, cos\n",
    "import numpy as np\n",
    "\n",
    "def bpf(coeffs):\n",
    "    lenth = len(coeffs)\n",
    "    if lenth == 1:\n",
    "        return coeffs\n",
    "    result_begin = bpf(coeffs[1::2]) * np.array([(cos(2 * pi * k / lenth) + 1j * sin(2 * pi * k / lenth)) for k in range(lenth//2)])\n",
    "    result_end = np.append((bpf(coeffs[::2]) + result_begin), (bpf(coeffs[::2]) - result_begin))\n",
    "    return result_end\n",
    "coeffs = np.array(list(map(float, input().strip().split())))\n",
    "\n",
    "n = len(coeffs)\n",
    "\n",
    "print(' '.join(f'{x.real},{x.imag}' for x in bpf(coeffs)))"
   ]
  },
  {
   "cell_type": "code",
   "execution_count": null,
   "metadata": {},
   "outputs": [],
   "source": []
  }
 ],
 "metadata": {
  "kernelspec": {
   "display_name": "Python 3",
   "language": "python",
   "name": "python3"
  },
  "language_info": {
   "codemirror_mode": {
    "name": "ipython",
    "version": 3
   },
   "file_extension": ".py",
   "mimetype": "text/x-python",
   "name": "python",
   "nbconvert_exporter": "python",
   "pygments_lexer": "ipython3",
   "version": "3.7.4"
  }
 },
 "nbformat": 4,
 "nbformat_minor": 2
}
