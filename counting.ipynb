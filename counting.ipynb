{
 "cells": [
  {
   "cell_type": "code",
   "execution_count": 2,
   "metadata": {},
   "outputs": [
    {
     "name": "stdout",
     "output_type": "stream",
     "text": [
      "5\n",
      "0 1\n",
      "0 0\n",
      "1 2\n",
      "2 3\n",
      "3 3\n",
      "0 1\n",
      "0 0\n",
      "1 2\n",
      "2 3\n",
      "3 3\n",
      "[[1, 0], [2], [3], [3]]\n",
      "1 ? 0\n",
      "2 ? 1\n",
      "3 ? 2\n",
      "3 ? 3\n",
      "3 ? 2\n",
      "0 -1\n",
      "1 0\n",
      "2 1\n",
      "3 2\n",
      "no\n"
     ]
    }
   ],
   "source": [
    "def matrix(v):\n",
    "    global mat, g, mt\n",
    "    if used[v]: \n",
    "        return False\n",
    "    mat[v] = True\n",
    "    for to in g[v]:\n",
    "        if (mt[to] == -1 or matrix(mt[to])):\n",
    "            mt[to] = v\n",
    "            return True\n",
    "    return False\n",
    "\n",
    "m = int(input())\n",
    "\n",
    "n = 0\n",
    "es = []\n",
    "for _ in range(m): \n",
    "    v, u = map(int, input().split())\n",
    "    es.append([v, u])\n",
    "    n = max(n, max(v, u))\n",
    "n += 1\n",
    "mt = [-1] * n\n",
    "g = [[] for _ in range(n)]\n",
    "for e in es:\n",
    "    g[e[0]].append(e[1])\n",
    "for v in range(n):\n",
    "    used = [False] * n\n",
    "    matrix(v)\n",
    "ans = 'yes'\n",
    "for v in range(n):\n",
    "    if mt[v] == -1:\n",
    "        ans = 'no'\n",
    "print(ans)"
   ]
  },
  {
   "cell_type": "code",
   "execution_count": null,
   "metadata": {},
   "outputs": [],
   "source": []
  }
 ],
 "metadata": {
  "kernelspec": {
   "display_name": "Python 3",
   "language": "python",
   "name": "python3"
  }
 },
 "nbformat": 4,
 "nbformat_minor": 2
}
