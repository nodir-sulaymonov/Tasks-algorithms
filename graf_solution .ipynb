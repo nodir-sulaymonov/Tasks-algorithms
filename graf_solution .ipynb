{
 "cells": [
  {
   "cell_type": "code",
   "execution_count": 12,
   "metadata": {},
   "outputs": [
    {
     "name": "stdout",
     "output_type": "stream",
     "text": [
      "4\n",
      "1 4\n",
      "4 5\n",
      "5 2\n",
      "1 5\n",
      "2\n"
     ]
    }
   ],
   "source": [
    "import numpy as np\n",
    "def build_A(dregs):\n",
    "    A = np.zeros((n, n))\n",
    "    ss = np.zeros(n)\n",
    "    for i, j in dregs:\n",
    "        ss[road[i]] += 1\n",
    "        ss[road[j]] += 1\n",
    "    for i, j in dregs:\n",
    "        A[road[f], road[i]] = -1\n",
    "        A[road[i], road[j]] = -1\n",
    "    for a, j in enumerate(ss):\n",
    "        A[a, a] = j\n",
    "    return A\n",
    "def read_data():\n",
    "    n = int(input())\n",
    "    dregs = []\n",
    "    for i in range(n):\n",
    "        line = input().split()\n",
    "        s,f = map(int, line)\n",
    "        dregs.append([s, f])\n",
    "    new_dregs = []\n",
    "    for a, b in dregs:\n",
    "        if [b, a] not in new_dregs:\n",
    "            new_dregs.append([a,b])\n",
    "    dregs = new_dregs\n",
    "    road = {}\n",
    "    for a, b in enumerate(np.unique(dregs)):\n",
    "        road[b] = a\n",
    "    return dregs, road\n",
    "\n",
    "dregs, road = read_data()\n",
    "n = len(road)\n",
    "\n",
    "A = build_A(dregs)\n",
    "d, f = np.linalg.eigh(A)\n",
    "breefs = np.argsort(f[0:,1])[::-1]\n",
    "max_density = 1\n",
    "ind = 1\n",
    "for l in range(1,len(breefs)):\n",
    "    resize = np.count_nonzero(A[0:,breefs[0:l]][breefs[l:],:])/(l * (len(breefs)-l))\n",
    "    if resize < max_density:\n",
    "        max_density = resize\n",
    "        ind = l\n",
    "answer = np.sort([list(road.keys())[list(road.values()).index(blef)] for blef in breefs[0:ind]])\n",
    "print(' '.join(list(map(str,answer))))"
   ]
  },
  {
   "cell_type": "code",
   "execution_count": null,
   "metadata": {},
   "outputs": [],
   "source": []
  },
  {
   "cell_type": "code",
   "execution_count": null,
   "metadata": {},
   "outputs": [],
   "source": []
  }
 ],
 "metadata": {
  "kernelspec": {
   "display_name": "Python 3",
   "language": "python",
   "name": "python3"
  },
  "language_info": {
   "codemirror_mode": {
    "name": "ipython",
    "version": 3
   },
   "file_extension": ".py",
   "mimetype": "text/x-python",
   "name": "python",
   "nbconvert_exporter": "python",
   "pygments_lexer": "ipython3",
   "version": "3.7.4"
  }
 },
 "nbformat": 4,
 "nbformat_minor": 2
}
