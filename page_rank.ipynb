{
 "cells": [
  {
   "cell_type": "code",
   "execution_count": 3,
   "metadata": {},
   "outputs": [],
   "source": [
    "import numpy as np"
   ]
  },
  {
   "cell_type": "code",
   "execution_count": 4,
   "metadata": {},
   "outputs": [
    {
     "name": "stdout",
     "output_type": "stream",
     "text": [
      "0.11\n",
      "11\n",
      "51g0j yy_ku24\n",
      "d6/_v qbq_sg\n",
      "ie4.zqr 44/k2h\n",
      "yy_ku24 44/k2h\n",
      "p30.743f qbq_sg\n",
      "yy_ku24 olldc\n",
      "d6/_v 51g0j\n",
      "51g0j ie4.zqr\n",
      "qbq_sg ie4.zqr\n",
      "m7300j qbq_sg\n",
      "p30.743f oft_4\n",
      "44/k2h 0.2502909233103663\n",
      "51g0j 0.06703186681671856\n",
      "d6/_v 0.04638891791208382\n",
      "ie4.zqr 0.19099381477179608\n",
      "m7300j 0.04638891791208382\n",
      "oft_4 0.06703186681671856\n",
      "olldc 0.08030596640683026\n",
      "p30.743f 0.04638891791208382\n",
      "qbq_sg 0.12896071353062277\n",
      "yy_ku24 0.07621809461069724\n"
     ]
    }
   ],
   "source": [
    "def pg_r(bloks, deb):\n",
    "    end_res = []\n",
    "    d = np.unique(bloks)\n",
    "    change_strok = {}\n",
    "    for i in range (len(d)):\n",
    "        change_strok[d[i]] = i\n",
    "    value = len(change_strok)\n",
    "    nul_matrix = np.zeros((value, value))\n",
    "    end = np.zeros(value)\n",
    "    for go, _ in bloks:\n",
    "        end[change_strok[go]] += 1\n",
    "    for go in bloks:\n",
    "        nul_matrix[change_strok[go[1]], change_strok[go[0]]] = 1\n",
    "    for go in enumerate(end):\n",
    "        if go[1] == 0:\n",
    "            nul_matrix[:, go[0]] = 1/value\n",
    "        else:\n",
    "            nul_matrix[:, go[0]] /= go[1]\n",
    "    step = np.full(value, 1/value)\n",
    "    ol = (1-deb)*nul_matrix + deb/value\n",
    "    step2 = np.zeros(value)\n",
    "    while not np.allclose(step2, step):\n",
    "        step2 = step\n",
    "        step = ol @ step\n",
    "    for num, res in change_strok.items():\n",
    "        end_res.append([num, step[res]])\n",
    "    return end_res\n",
    "\n",
    "ent = eval(input())\n",
    "m = int(input())\n",
    "bloks = []\n",
    "for _ in range(m):\n",
    "    deb, deb1 = (input().strip().split())\n",
    "    bloks.append([deb, deb1])\n",
    "res = pg_r(np.array(bloks), ent)\n",
    "for go in res:\n",
    "    print(go[0] + \" \" + str(go[1]))\n"
   ]
  },
  {
   "cell_type": "code",
   "execution_count": null,
   "metadata": {},
   "outputs": [],
   "source": []
  }
 ],
 "metadata": {
  "kernelspec": {
   "display_name": "Python 3",
   "language": "python",
   "name": "python3"
  },
  "language_info": {
   "codemirror_mode": {
    "name": "ipython",
    "version": 3
   },
   "file_extension": ".py",
   "mimetype": "text/x-python",
   "name": "python",
   "nbconvert_exporter": "python",
   "pygments_lexer": "ipython3",
   "version": "3.7.4"
  }
 },
 "nbformat": 4,
 "nbformat_minor": 2
}
