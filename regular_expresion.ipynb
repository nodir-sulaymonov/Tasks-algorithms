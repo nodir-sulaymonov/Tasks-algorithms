{
 "cells": [
  {
   "cell_type": "code",
   "execution_count": 2,
   "metadata": {},
   "outputs": [],
   "source": [
    "import re"
   ]
  },
  {
   "cell_type": "code",
   "execution_count": 3,
   "metadata": {},
   "outputs": [],
   "source": [
    "def generate_variations(n):\n",
    "    conjs = []\n",
    "    for i in range(2**n):\n",
    "        conjs.append(f'{{0:0{n}b}}'.format(i))\n",
    "    return conjs\n"
   ]
  },
  {
   "cell_type": "code",
   "execution_count": 4,
   "metadata": {},
   "outputs": [],
   "source": [
    "def expand(x, variations):\n",
    "    res = []\n",
    "    patt = re.compile(x)\n",
    "    for var in variations:\n",
    "        if patt.match(var):\n",
    "            res.append(var)\n",
    "    return res"
   ]
  },
  {
   "cell_type": "code",
   "execution_count": 5,
   "metadata": {},
   "outputs": [],
   "source": [
    "def generate(t, s=0):\n",
    "    res = []\n",
    "    tail = []\n",
    "    if s >= len(t):\n",
    "        return res\n",
    "    tt = list(t)\n",
    "    for c in range(1, -1, -1):\n",
    "        for i in range(s, len(t)):\n",
    "            tt[i] = str(c)\n",
    "            res.append(''.join(tt))\n",
    "            tail += generate(tt, i+1)\n",
    "            tt[i] = '.'\n",
    "    res += tail\n",
    "    return res"
   ]
  },
  {
   "cell_type": "code",
   "execution_count": 6,
   "metadata": {},
   "outputs": [
    {
     "name": "stdout",
     "output_type": "stream",
     "text": [
      "['1..', '.1.', '..1', '0..', '.0.', '..0', '11.', '1.1', '10.', '1.0', '111', '110', '101', '100', '.11', '.10', '01.', '0.1', '00.', '0.0', '011', '010', '001', '000', '.01', '.00']\n"
     ]
    }
   ],
   "source": [
    "print(generate('...'))"
   ]
  },
  {
   "cell_type": "code",
   "execution_count": null,
   "metadata": {},
   "outputs": [],
   "source": []
  }
 ],
 "metadata": {
  "kernelspec": {
   "display_name": "Python 3",
   "language": "python",
   "name": "python3"
  },
  "language_info": {
   "codemirror_mode": {
    "name": "ipython",
    "version": 3
   },
   "file_extension": ".py",
   "mimetype": "text/x-python",
   "name": "python",
   "nbconvert_exporter": "python",
   "pygments_lexer": "ipython3",
   "version": "3.7.4"
  }
 },
 "nbformat": 4,
 "nbformat_minor": 2
}
